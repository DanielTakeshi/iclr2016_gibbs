{
 "cells": [
  {
   "cell_type": "code",
   "execution_count": 2,
   "metadata": {
    "collapsed": true
   },
   "outputs": [],
   "source": [
    "import numpy as np\n",
    "import matplotlib.pyplot as plt\n",
    "import csv\n",
    "%matplotlib inline  "
   ]
  },
  {
   "cell_type": "code",
   "execution_count": 5,
   "metadata": {
    "collapsed": false
   },
   "outputs": [
    {
     "data": {
      "text/plain": [
       "array([ 0.03463193,  0.03382338,  0.03203529,  0.03032465,  0.02899156,\n",
       "        0.02675197,  0.02578487,  0.02573071,  0.02540657,  0.02458027,\n",
       "        0.02366142,  0.02405148,  0.02431758,  0.02423985,  0.02430647,\n",
       "        0.02302996,  0.02211179,  0.0221479 ,  0.02122844,  0.02268249,\n",
       "        0.02189609,  0.02069788,  0.02295263,  0.02580819,  0.02611847,\n",
       "        0.02453549,  0.0230653 ,  0.02409512,  0.02417174,  0.02528892,\n",
       "        0.02471789,  0.02486086,  0.02619189,  0.02658788,  0.02717727,\n",
       "        0.02744522,  0.02589684,  0.02516163,  0.02672878,  0.0260386 ,\n",
       "        0.02755068,  0.02637996,  0.0285167 ,  0.02769087,  0.02872553,\n",
       "        0.02708583,  0.02746778,  0.02592953,  0.02801859,  0.02726666,\n",
       "        0.02658798,  0.02463558,  0.02514091,  0.02759286,  0.02614235,\n",
       "        0.02662741,  0.02738961,  0.02750745,  0.02746853,  0.03050382,\n",
       "        0.02883787,  0.02900664,  0.02848049,  0.02942302,  0.03036314,\n",
       "        0.02737156,  0.02558263,  0.02404951,  0.02456656,  0.02505614,\n",
       "        0.02572191,  0.02600424,  0.02735818,  0.02887857,  0.02879269,\n",
       "        0.03036735,  0.02837891,  0.02771267,  0.02776779,  0.0279276 ,\n",
       "        0.02796813,  0.02885935,  0.02815355,  0.0279819 ,  0.02878033,\n",
       "        0.02754915,  0.0283791 ,  0.03011891,  0.02961718,  0.02908151,\n",
       "        0.02821798,  0.02854916,  0.02696605,  0.02753453,  0.02741819,\n",
       "        0.02779685,  0.02850889,  0.02884601,  0.02783749,  0.02541576,\n",
       "        0.02687726,  0.02755335,  0.02768511,  0.02716199,  0.02558897,\n",
       "        0.02566062,  0.02706616,  0.02430661,  0.02590179,  0.02793884,\n",
       "        0.02688022,  0.02676272,  0.02647834,  0.02658274,  0.02547654,\n",
       "        0.02405871,  0.02355846,  0.02471066,  0.02428876,  0.02544588,\n",
       "        0.02663824,  0.02635141,  0.02580814,  0.02799151,  0.02793935,\n",
       "        0.0274931 ,  0.0284332 ,  0.02740694,  0.02857515,  0.02797819,\n",
       "        0.02663276,  0.02764466,  0.02964229,  0.02868473,  0.02884117,\n",
       "        0.02825454,  0.02911325,  0.02983451,  0.02846743,  0.02925384,\n",
       "        0.02821137,  0.02839817,  0.02637402,  0.02848344,  0.02796831,\n",
       "        0.02942282,  0.02918889,  0.02781256,  0.02764948,  0.02862958,\n",
       "        0.02734989,  0.02827768,  0.02999884,  0.0289576 ,  0.02832806,\n",
       "        0.02752949,  0.02621502,  0.02726903,  0.02875414,  0.02959189,\n",
       "        0.02996166,  0.02820422,  0.02722142,  0.02893061,  0.02941304,\n",
       "        0.02734555,  0.02926477,  0.02871381,  0.03219494,  0.03158621,\n",
       "        0.02953354,  0.02960085,  0.0303766 ,  0.03190721,  0.03277738,\n",
       "        0.03067255,  0.03102493,  0.02944721,  0.02942258,  0.02771176,\n",
       "        0.03011673,  0.029561  ,  0.02916593,  0.03290189,  0.03059495,\n",
       "        0.02907264,  0.02787165,  0.02745055,  0.02667896,  0.02707942,\n",
       "        0.02903969,  0.02956335,  0.03049388,  0.0297146 ,  0.03111707,\n",
       "        0.02954205,  0.03003753,  0.02822614,  0.02781254,  0.02917023])"
      ]
     },
     "execution_count": 5,
     "metadata": {},
     "output_type": "execute_result"
    }
   ],
   "source": [
    "m1_10"
   ]
  },
  {
   "cell_type": "code",
   "execution_count": 28,
   "metadata": {
    "collapsed": false
   },
   "outputs": [],
   "source": [
    "\n",
    "with open('./m1_10/divRes', 'rb') as csvfile:\n",
    "    spamreader = csv.reader(csvfile, delimiter=',', quotechar=',')\n",
    "    for row in spamreader:\n",
    "        x = row\n",
    "x = np.array(x)\n",
    "m1_10 = x.astype(np.float)\n",
    "\n",
    "\n",
    "with open('./m1_2_0/divRes', 'rb') as csvfile:\n",
    "    spamreader = csv.reader(csvfile, delimiter=',', quotechar=',')\n",
    "    for row in spamreader:\n",
    "        x = row\n",
    "x = np.array(x)\n",
    "m1_2_0 = x.astype(np.float)\n",
    "\n",
    "with open('./m1_2_2/divRes', 'rb') as csvfile:\n",
    "    spamreader = csv.reader(csvfile, delimiter=',', quotechar=',')\n",
    "    for row in spamreader:\n",
    "        x = row\n",
    "x = np.array(x)\n",
    "m1_2_2 = x.astype(np.float)\n",
    "\n",
    "with open('./m1_2_2_mooc_sparse/divRes', 'rb') as csvfile:\n",
    "    spamreader = csv.reader(csvfile, delimiter=',', quotechar=',')\n",
    "    for row in spamreader:\n",
    "        x = row\n",
    "x = np.array(x)\n",
    "m1_2_2mooc = x.astype(np.float)\n",
    "\n",
    "with open('./m1_2_5/divRes', 'rb') as csvfile:\n",
    "    spamreader = csv.reader(csvfile, delimiter=',', quotechar=',')\n",
    "    for row in spamreader:\n",
    "        x = row\n",
    "x = np.array(x)\n",
    "m1_2_5 = x.astype(np.float)\n",
    "\n",
    "with open('./m1_5/divRes', 'rb') as csvfile:\n",
    "    spamreader = csv.reader(csvfile, delimiter=',', quotechar=',')\n",
    "    for row in spamreader:\n",
    "        x = row\n",
    "x = np.array(x)\n",
    "m1_5 = x.astype(np.float)\n",
    "\n",
    "with open('./m1_25/divRes', 'rb') as csvfile:\n",
    "    spamreader = csv.reader(csvfile, delimiter=',', quotechar=',')\n",
    "    for row in spamreader:\n",
    "        x = row\n",
    "x = np.array(x)\n",
    "m1_25 = x.astype(np.float)"
   ]
  },
  {
   "cell_type": "code",
   "execution_count": 29,
   "metadata": {
    "collapsed": false
   },
   "outputs": [
    {
     "ename": "IndexError",
     "evalue": "list index out of range",
     "output_type": "error",
     "traceback": [
      "\u001b[1;31m---------------------------------------------------------------------------\u001b[0m",
      "\u001b[1;31mIndexError\u001b[0m                                Traceback (most recent call last)",
      "\u001b[1;32m<ipython-input-29-b6bdfd121a7c>\u001b[0m in \u001b[0;36m<module>\u001b[1;34m()\u001b[0m\n\u001b[0;32m     10\u001b[0m \u001b[1;32mfor\u001b[0m \u001b[0mi\u001b[0m \u001b[1;32min\u001b[0m \u001b[0mxrange\u001b[0m\u001b[1;33m(\u001b[0m\u001b[1;36m7\u001b[0m\u001b[1;33m)\u001b[0m\u001b[1;33m:\u001b[0m\u001b[1;33m\u001b[0m\u001b[0m\n\u001b[0;32m     11\u001b[0m     \u001b[0mlinewidth_num\u001b[0m \u001b[1;33m=\u001b[0m \u001b[1;36m1\u001b[0m\u001b[1;33m\u001b[0m\u001b[0m\n\u001b[1;32m---> 12\u001b[1;33m     \u001b[0mplt\u001b[0m\u001b[1;33m.\u001b[0m\u001b[0mplot\u001b[0m\u001b[1;33m(\u001b[0m\u001b[0mdata\u001b[0m\u001b[1;33m[\u001b[0m\u001b[0mi\u001b[0m\u001b[1;33m]\u001b[0m\u001b[1;33m[\u001b[0m\u001b[1;33m:\u001b[0m\u001b[1;36m100\u001b[0m\u001b[1;33m]\u001b[0m\u001b[1;33m,\u001b[0m \u001b[0msignals\u001b[0m\u001b[1;33m[\u001b[0m\u001b[0mi\u001b[0m\u001b[1;33m]\u001b[0m\u001b[1;33m,\u001b[0m \u001b[0mlabel\u001b[0m\u001b[1;33m=\u001b[0m\u001b[0mlegend_labels\u001b[0m\u001b[1;33m[\u001b[0m\u001b[0mi\u001b[0m\u001b[1;33m]\u001b[0m\u001b[1;33m,\u001b[0m \u001b[0mlinewidth\u001b[0m\u001b[1;33m=\u001b[0m\u001b[0mlinewidth_num\u001b[0m\u001b[1;33m)\u001b[0m\u001b[1;33m\u001b[0m\u001b[0m\n\u001b[0m\u001b[0;32m     13\u001b[0m \u001b[1;31m#plt.legend(loc='upper right', ncol=2)\u001b[0m\u001b[1;33m\u001b[0m\u001b[1;33m\u001b[0m\u001b[0m\n\u001b[0;32m     14\u001b[0m \u001b[0mplt\u001b[0m\u001b[1;33m.\u001b[0m\u001b[0mtitle\u001b[0m\u001b[1;33m(\u001b[0m\u001b[1;34m'Average KL Divergence on Synthetic Mooc Data'\u001b[0m\u001b[1;33m,\u001b[0m \u001b[0mfontsize\u001b[0m\u001b[1;33m=\u001b[0m\u001b[1;34m'xx-large'\u001b[0m\u001b[1;33m)\u001b[0m\u001b[1;33m\u001b[0m\u001b[0m\n",
      "\u001b[1;31mIndexError\u001b[0m: list index out of range"
     ]
    },
    {
     "data": {
      "image/png": "[encoded data removed]",
      "text/plain": [
       "<matplotlib.figure.Figure at 0x7f7c357be3d0>"
      ]
     },
     "metadata": {},
     "output_type": "display_data"
    }
   ],
   "source": [
    "data = [m1_2_0, m1_2_2, m1_2_2mooc, m1_2_5, m1_5, m1_10, m1_25]\n",
    "plt.figure()\n",
    "#signals = ['ro--', 'y^--', 'bs--', 'ro-', 'y^-', 'bs-']\n",
    "signals = ['b-', 'k-', 'r--', 'r-', 'y-', 'y--', 'c-', 'c--']\n",
    "#legend_labels = [\"25%, m = 1\", \"25%, m = 5\", \"25%, m = 10\", \"50%, m = 1\", \"50%, m = 5\", \"50%, m = 10\"]\n",
    "legend_labels = [\"2.0%\", \"2.2%\", \"2.2%mooc\", \"2.5%\", \"5%\", \"10%\", \"25%\", \"60%\", \"100%\"]\n",
    "#data = [kl_25_1, kl_25_5, kl_25_10, kl_50_1, kl_50_5, kl_50_10]\n",
    "\n",
    "i = 0\n",
    "for i in xrange(7):\n",
    "    linewidth_num = 1\n",
    "    plt.plot(data[i][:100], signals[i], label=legend_labels[i], linewidth=linewidth_num)\n",
    "#plt.legend(loc='upper right', ncol=2)\n",
    "plt.title('Average KL Divergence on Synthetic Mooc Data', fontsize='xx-large')\n",
    "#plt.yscale('log')\n",
    "plt.xlabel('Number of Passes Over the Data', fontsize='x-large')\n",
    "plt.ylabel('Average KL Divergence', fontsize='x-large')"
   ]
  },
  {
   "cell_type": "code",
   "execution_count": 23,
   "metadata": {
    "collapsed": false
   },
   "outputs": [
    {
     "data": {
      "text/plain": [
       "array([ 0.06442724,  0.07260335,  0.08017862,  0.08851075,  0.09184739,\n",
       "        0.09705834,  0.10882518,  0.1155698 ,  0.11970517,  0.11914086,\n",
       "        0.1217335 ,  0.11813438,  0.13250891,  0.13670195,  0.1440241 ,\n",
       "        0.14280614,  0.13836289,  0.13796498,  0.13453815,  0.14884873,\n",
       "        0.13886917,  0.13834306,  0.14466531,  0.14982748,  0.13964113,\n",
       "        0.13803013,  0.13835672,  0.13433754,  0.13702318,  0.1346844 ,\n",
       "        0.14229809,  0.13853004,  0.14565593,  0.14724645,  0.14815436,\n",
       "        0.14817322,  0.1603908 ,  0.14917751,  0.14041744,  0.16157305,\n",
       "        0.15461823,  0.16136687,  0.16540377,  0.16148948,  0.15514188,\n",
       "        0.14753458,  0.15529937,  0.15798525,  0.16622961,  0.15793182,\n",
       "        0.15284311,  0.14387081,  0.12883947,  0.1431887 ,  0.1432837 ,\n",
       "        0.14861416,  0.14408509,  0.15944105,  0.14760109,  0.16334067,\n",
       "        0.15948964,  0.15192435,  0.15368406,  0.14623056,  0.1479502 ,\n",
       "        0.15821322,  0.14943741,  0.14429318,  0.15017598,  0.14189078,\n",
       "        0.13884981,  0.1427806 ,  0.14230624,  0.15145302,  0.1484702 ,\n",
       "        0.15193079,  0.14543457,  0.15128962,  0.15665482,  0.14768315,\n",
       "        0.13909595,  0.13922407,  0.13862114,  0.14458442,  0.1366895 ,\n",
       "        0.14907549,  0.14368043,  0.13957431,  0.14145353,  0.13544615,\n",
       "        0.13704169,  0.13524863,  0.14240482,  0.13900827,  0.15491205,\n",
       "        0.15053855,  0.15553522,  0.15126536,  0.15333545,  0.15002584,\n",
       "        0.15187614,  0.16334851,  0.16104554,  0.1635684 ,  0.14517427,\n",
       "        0.13904206,  0.13888488,  0.13884352,  0.14220348,  0.1429019 ,\n",
       "        0.14336864,  0.14437015,  0.13919174,  0.14989724,  0.14259373,\n",
       "        0.13900525,  0.14529968,  0.14761088,  0.15306939,  0.16209926,\n",
       "        0.1484168 ,  0.15217293,  0.14775498,  0.14563878,  0.14445102,\n",
       "        0.14648052,  0.15850817,  0.15218557,  0.1483179 ,  0.1470898 ,\n",
       "        0.14810676,  0.14975819,  0.15584413,  0.14541749,  0.15509881,\n",
       "        0.15096466,  0.14660247,  0.15718481,  0.14803553,  0.15743168,\n",
       "        0.14932757,  0.14638768,  0.14536978,  0.14538829,  0.14327525,\n",
       "        0.13719176,  0.13875253,  0.1465856 ,  0.1474133 ,  0.14679404,\n",
       "        0.14441878,  0.13979563,  0.13517512,  0.14953286,  0.14918997,\n",
       "        0.14839748,  0.14832541,  0.16742504,  0.16088759,  0.15182885,\n",
       "        0.14616868,  0.1538638 ,  0.15132524,  0.15206654,  0.15165898,\n",
       "        0.13801484,  0.15907565,  0.15576242,  0.14750517,  0.13821065,\n",
       "        0.13683768,  0.13913802,  0.13549186,  0.14199727,  0.14003301,\n",
       "        0.14697175,  0.15361471,  0.14751952,  0.14419068,  0.15037204,\n",
       "        0.14342333,  0.15743647,  0.15207487,  0.14837368,  0.14390302,\n",
       "        0.14606583,  0.14603784,  0.14269698,  0.13853787,  0.14044507,\n",
       "        0.14059926,  0.13334789,  0.13294366,  0.1420641 ,  0.13851704,\n",
       "        0.13922152,  0.13825053,  0.14382007,  0.14357707,  0.14478815])"
      ]
     },
     "execution_count": 23,
     "metadata": {},
     "output_type": "execute_result"
    }
   ],
   "source": [
    "m1_2_2mooc"
   ]
  },
  {
   "cell_type": "code",
   "execution_count": 20,
   "metadata": {
    "collapsed": false
   },
   "outputs": [],
   "source": [
    "def f(x):\n",
    "    return 1.0 / x\n",
    "def df(x):\n",
    "    return -1.0 / x**2\n",
    "def estdf(x, h):\n",
    "    return -1.5 / h *f(x) + 2.0 /h *f(x+h) -0.5/h *f(x + 2*h)\n",
    "x = np.zeros(500)\n",
    "x[:] = np.asarray(list(range(500))) * 1.0 /500.0 * 5.0 + 0.000001"
   ]
  },
  {
   "cell_type": "code",
   "execution_count": 27,
   "metadata": {
    "collapsed": false
   },
   "outputs": [
    {
     "data": {
      "text/plain": [
       "(1e-05, 10)"
      ]
     },
     "execution_count": 27,
     "metadata": {},
     "output_type": "execute_result"
    },
    {
     "data": {
      "image/png": "[encoded data removed]",
      "text/plain": [
       "<matplotlib.figure.Figure at 0x7f9428602050>"
      ]
     },
     "metadata": {},
     "output_type": "display_data"
    }
   ],
   "source": [
    "plt.figure()\n",
    "plt.plot(x, df(x), 'b-')\n",
    "plt.plot(x, estdf(x, 0.1), 'k-')\n",
    "plt.ylim(1e-5, 10)"
   ]
  },
  {
   "cell_type": "code",
   "execution_count": 24,
   "metadata": {
    "collapsed": false
   },
   "outputs": [
    {
     "data": {
      "text/plain": [
       "array([ -1.00000000e+12,  -9.99800030e+03,  -2.49975002e+03,\n",
       "        -1.11103704e+03,  -6.24968751e+02,  -3.99984000e+02,\n",
       "        -2.77768519e+02,  -2.04075802e+02,  -1.56246094e+02,\n",
       "        -1.23454047e+02,  -9.99980000e+01,  -8.26431255e+01,\n",
       "        -6.94432871e+01,  -5.91706873e+01,  -5.10196793e+01,\n",
       "        -4.44438519e+01,  -3.90620117e+01,  -3.46016690e+01,\n",
       "        -3.08638546e+01,  -2.77005394e+01,  -2.49997500e+01,\n",
       "        -2.26755210e+01,  -2.06609692e+01,  -1.89034273e+01,\n",
       "        -1.73609664e+01,  -1.59998720e+01,  -1.47927856e+01,\n",
       "        -1.37173195e+01,  -1.27550109e+01,  -1.18905244e+01,\n",
       "        -1.11110370e+01,  -1.04057601e+01,  -9.76556397e+00,\n",
       "        -9.18268080e+00,  -8.65046815e+00,  -8.16321866e+00,\n",
       "        -7.71600652e+00,  -7.30456242e+00,  -6.92517131e+00,\n",
       "        -6.57458824e+00,  -6.24996875e+00,  -5.94881096e+00,\n",
       "        -5.66890725e+00,  -5.40830367e+00,  -5.16526578e+00,\n",
       "        -4.93824966e+00,  -4.72587737e+00,  -4.52691600e+00,\n",
       "        -4.34025969e+00,  -4.16491428e+00,  -3.99998400e+00,\n",
       "        -3.84466005e+00,  -3.69821063e+00,  -3.55997233e+00,\n",
       "        -3.42934258e+00,  -3.30577310e+00,  -3.18876412e+00,\n",
       "        -3.07785931e+00,  -2.97264135e+00,  -2.87272798e+00,\n",
       "        -2.77776852e+00,  -2.68744080e+00,  -2.60144842e+00,\n",
       "        -2.51951833e+00,  -2.44139862e+00,  -2.36685662e+00,\n",
       "        -2.29567716e+00,  -2.22766098e+00,  -2.16262340e+00,\n",
       "        -2.10039299e+00,  -2.04081050e+00,  -1.98372780e+00,\n",
       "        -1.92900699e+00,  -1.87651954e+00,  -1.82614554e+00,\n",
       "        -1.77777304e+00,  -1.73129738e+00,  -1.68662068e+00,\n",
       "        -1.64365128e+00,  -1.60230327e+00,  -1.56249609e+00,\n",
       "        -1.52415414e+00,  -1.48720637e+00,  -1.45158599e+00,\n",
       "        -1.41723019e+00,  -1.38407979e+00,  -1.35207906e+00,\n",
       "        -1.32117545e+00,  -1.29131938e+00,  -1.26246402e+00,\n",
       "        -1.23456516e+00,  -1.20758097e+00,  -1.18147191e+00,\n",
       "        -1.15620054e+00,  -1.13173141e+00,  -1.10803091e+00,\n",
       "        -1.08506718e+00,  -1.06281001e+00,  -1.04123069e+00,\n",
       "        -1.02030199e+00,  -9.99998000e-01,  -9.80294108e-01,\n",
       "        -9.61166897e-01,  -9.42594079e-01,  -9.24554435e-01,\n",
       "        -9.07027751e-01,  -8.89994761e-01,  -8.73437096e-01,\n",
       "        -8.57337233e-01,  -8.41678449e-01,  -8.26444778e-01,\n",
       "        -8.11620971e-01,  -7.97192454e-01,  -7.83145297e-01,\n",
       "        -7.69466179e-01,  -7.56142352e-01,  -7.43161620e-01,\n",
       "        -7.30512302e-01,  -7.18183213e-01,  -7.06163632e-01,\n",
       "        -6.94443287e-01,  -6.83012326e-01,  -6.71861301e-01,\n",
       "        -6.60981145e-01,  -6.50363155e-01,  -6.39998976e-01,\n",
       "        -6.29880582e-01,  -6.20000264e-01,  -6.10350609e-01,\n",
       "        -6.00924493e-01,  -5.91715066e-01,  -5.82715735e-01,\n",
       "        -5.73920159e-01,  -5.65322232e-01,  -5.56916077e-01,\n",
       "        -5.48696032e-01,  -5.40656644e-01,  -5.32792658e-01,\n",
       "        -5.25099008e-01,  -5.17570810e-01,  -5.10203353e-01,\n",
       "        -5.02992094e-01,  -4.95932648e-01,  -4.89020784e-01,\n",
       "        -4.82252417e-01,  -4.75623601e-01,  -4.69130526e-01,\n",
       "        -4.62769512e-01,  -4.56537002e-01,  -4.50429556e-01,\n",
       "        -4.44443852e-01,  -4.38576674e-01,  -4.32824915e-01,\n",
       "        -4.27185567e-01,  -4.21655718e-01,  -4.16232553e-01,\n",
       "        -4.10913346e-01,  -4.05695455e-01,  -4.00576324e-01,\n",
       "        -3.95553476e-01,  -3.90624512e-01,  -3.85787106e-01,\n",
       "        -3.81039005e-01,  -3.76378024e-01,  -3.71802045e-01,\n",
       "        -3.67309013e-01,  -3.62896935e-01,  -3.58563879e-01,\n",
       "        -3.54307968e-01,  -3.50127382e-01,  -3.46020354e-01,\n",
       "        -3.41985168e-01,  -3.38020159e-01,  -3.34123707e-01,\n",
       "        -3.30294243e-01,  -3.26530239e-01,  -3.22830212e-01,\n",
       "        -3.19192719e-01,  -3.15616360e-01,  -3.12099773e-01,\n",
       "        -3.08641632e-01,  -3.05240650e-01,  -3.01895575e-01,\n",
       "        -2.98605186e-01,  -2.95368299e-01,  -2.92183760e-01,\n",
       "        -2.89050447e-01,  -2.85967265e-01,  -2.82933153e-01,\n",
       "        -2.79947074e-01,  -2.77008019e-01,  -2.74115006e-01,\n",
       "        -2.71267079e-01,  -2.68463305e-01,  -2.65702776e-01,\n",
       "        -2.62984609e-01,  -2.60307939e-01,  -2.57671928e-01,\n",
       "        -2.55075755e-01,  -2.52518622e-01,  -2.49999750e-01,\n",
       "        -2.47518379e-01,  -2.45073770e-01,  -2.42665198e-01,\n",
       "        -2.40291960e-01,  -2.37953367e-01,  -2.35648748e-01,\n",
       "        -2.33377450e-01,  -2.31138831e-01,  -2.28932269e-01,\n",
       "        -2.26757154e-01,  -2.24612891e-01,  -2.22498900e-01,\n",
       "        -2.20414614e-01,  -2.18359478e-01,  -2.16332952e-01,\n",
       "        -2.14334507e-01,  -2.12363626e-01,  -2.10419805e-01,\n",
       "        -2.08502551e-01,  -2.06611382e-01,  -2.04745827e-01,\n",
       "        -2.02905426e-01,  -2.01089727e-01,  -1.99298291e-01,\n",
       "        -1.97530689e-01,  -1.95786498e-01,  -1.94065307e-01,\n",
       "        -1.92366713e-01,  -1.90690324e-01,  -1.89035752e-01,\n",
       "        -1.87402623e-01,  -1.85790565e-01,  -1.84199219e-01,\n",
       "        -1.82628232e-01,  -1.81077256e-01,  -1.79545955e-01,\n",
       "        -1.78033997e-01,  -1.76541056e-01,  -1.75066817e-01,\n",
       "        -1.73610966e-01,  -1.72173201e-01,  -1.70753223e-01,\n",
       "        -1.69350739e-01,  -1.67965463e-01,  -1.66597115e-01,\n",
       "        -1.65245421e-01,  -1.63910110e-01,  -1.62590920e-01,\n",
       "        -1.61287592e-01,  -1.59999872e-01,  -1.58727513e-01,\n",
       "        -1.57470271e-01,  -1.56227907e-01,  -1.55000188e-01,\n",
       "        -1.53786884e-01,  -1.52587771e-01,  -1.51402629e-01,\n",
       "        -1.50231240e-01,  -1.49073393e-01,  -1.47928880e-01,\n",
       "        -1.46797498e-01,  -1.45679045e-01,  -1.44573326e-01,\n",
       "        -1.43480148e-01,  -1.42399323e-01,  -1.41330664e-01,\n",
       "        -1.40273991e-01,  -1.39229123e-01,  -1.38195887e-01,\n",
       "        -1.37174110e-01,  -1.36163623e-01,  -1.35164260e-01,\n",
       "        -1.34175860e-01,  -1.33198262e-01,  -1.32231309e-01,\n",
       "        -1.31274847e-01,  -1.30328726e-01,  -1.29392795e-01,\n",
       "        -1.28466911e-01,  -1.27550929e-01,  -1.26644709e-01,\n",
       "        -1.25748113e-01,  -1.24861004e-01,  -1.23983249e-01,\n",
       "        -1.23114718e-01,  -1.22255282e-01,  -1.21404813e-01,\n",
       "        -1.20563188e-01,  -1.19730284e-01,  -1.18905982e-01,\n",
       "        -1.18090163e-01,  -1.17282712e-01,  -1.16483514e-01,\n",
       "        -1.15692457e-01,  -1.14909431e-01,  -1.14134328e-01,\n",
       "        -1.13367040e-01,  -1.12607465e-01,  -1.11855497e-01,\n",
       "        -1.11111037e-01,  -1.10373984e-01,  -1.09644241e-01,\n",
       "        -1.08921711e-01,  -1.08206300e-01,  -1.07497914e-01,\n",
       "        -1.06796461e-01,  -1.06101852e-01,  -1.05413998e-01,\n",
       "        -1.04732811e-01,  -1.04058205e-01,  -1.03390097e-01,\n",
       "        -1.02728402e-01,  -1.02073040e-01,  -1.01423928e-01,\n",
       "        -1.00780989e-01,  -1.00144144e-01,  -9.95133168e-02,\n",
       "        -9.88884311e-02,  -9.82694129e-02,  -9.76561890e-02,\n",
       "        -9.70486871e-02,  -9.64468364e-02,  -9.58505670e-02,\n",
       "        -9.52598101e-02,  -9.46744980e-02,  -9.40945638e-02,\n",
       "        -9.35199421e-02,  -9.29505680e-02,  -9.23863778e-02,\n",
       "        -9.18273089e-02,  -9.12732994e-02,  -9.07242885e-02,\n",
       "        -9.01802162e-02,  -8.96410234e-02,  -8.91066521e-02,\n",
       "        -8.85770448e-02,  -8.80521451e-02,  -8.75318974e-02,\n",
       "        -8.70162468e-02,  -8.65051394e-02,  -8.59985220e-02,\n",
       "        -8.54963421e-02,  -8.49985480e-02,  -8.45050888e-02,\n",
       "        -8.40159143e-02,  -8.35309751e-02,  -8.30502225e-02,\n",
       "        -8.25736082e-02,  -8.21010851e-02,  -8.16326064e-02,\n",
       "        -8.11681261e-02,  -8.07075988e-02,  -8.02509797e-02,\n",
       "        -7.97982249e-02,  -7.93492907e-02,  -7.89041344e-02,\n",
       "        -7.84627137e-02,  -7.80249868e-02,  -7.75909128e-02,\n",
       "        -7.71604510e-02,  -7.67335614e-02,  -7.63102048e-02,\n",
       "        -7.58903421e-02,  -7.54739351e-02,  -7.50609459e-02,\n",
       "        -7.46513373e-02,  -7.42450724e-02,  -7.38421149e-02,\n",
       "        -7.34424290e-02,  -7.30459795e-02,  -7.26527314e-02,\n",
       "        -7.22626505e-02,  -7.18757027e-02,  -7.14918546e-02,\n",
       "        -7.11110732e-02,  -7.07333259e-02,  -7.03585805e-02,\n",
       "        -6.99868054e-02,  -6.96179693e-02,  -6.92520411e-02,\n",
       "        -6.88889905e-02,  -6.85287873e-02,  -6.81714019e-02,\n",
       "        -6.78168050e-02,  -6.74649675e-02,  -6.71158610e-02,\n",
       "        -6.67694572e-02,  -6.64257283e-02,  -6.60846469e-02,\n",
       "        -6.57461859e-02,  -6.54103184e-02,  -6.50770180e-02,\n",
       "        -6.47462587e-02,  -6.44180147e-02,  -6.40922604e-02,\n",
       "        -6.37689710e-02,  -6.34481214e-02,  -6.31296872e-02,\n",
       "        -6.28136443e-02,  -6.24999688e-02,  -6.21886370e-02,\n",
       "        -6.18796257e-02,  -6.15729118e-02,  -6.12684728e-02,\n",
       "        -6.09662860e-02,  -6.06663294e-02,  -6.03685811e-02,\n",
       "        -6.00730194e-02,  -5.97796230e-02,  -5.94883707e-02,\n",
       "        -5.91992419e-02,  -5.89122157e-02,  -5.86272720e-02,\n",
       "        -5.83443906e-02,  -5.80635516e-02,  -5.77847355e-02,\n",
       "        -5.75079229e-02,  -5.72330946e-02,  -5.69602316e-02,\n",
       "        -5.66893154e-02,  -5.64203274e-02,  -5.61532494e-02,\n",
       "        -5.58880633e-02,  -5.56247513e-02,  -5.53632957e-02,\n",
       "        -5.51036793e-02,  -5.48458847e-02,  -5.45898950e-02,\n",
       "        -5.43356933e-02,  -5.40832631e-02,  -5.38325879e-02,\n",
       "        -5.35836515e-02,  -5.33364378e-02,  -5.30909310e-02,\n",
       "        -5.28471154e-02,  -5.26049754e-02,  -5.23644959e-02,\n",
       "        -5.21256617e-02,  -5.18884576e-02,  -5.16528691e-02,\n",
       "        -5.14188814e-02,  -5.11864800e-02,  -5.09556507e-02,\n",
       "        -5.07263792e-02,  -5.04986517e-02,  -5.02724543e-02,\n",
       "        -5.00477733e-02,  -4.98245951e-02,  -4.96029065e-02,\n",
       "        -4.93826941e-02,  -4.91639449e-02,  -4.89466461e-02,\n",
       "        -4.87307846e-02,  -4.85163481e-02,  -4.83033238e-02,\n",
       "        -4.80916994e-02,  -4.78814628e-02,  -4.76726017e-02,\n",
       "        -4.74651043e-02,  -4.72589587e-02,  -4.70541531e-02,\n",
       "        -4.68506759e-02,  -4.66485158e-02,  -4.64476613e-02,\n",
       "        -4.62481013e-02,  -4.60498246e-02,  -4.58528203e-02,\n",
       "        -4.56570774e-02,  -4.54625853e-02,  -4.52693334e-02,\n",
       "        -4.50773110e-02,  -4.48865078e-02,  -4.46969136e-02,\n",
       "        -4.45085180e-02,  -4.43213110e-02,  -4.41352826e-02,\n",
       "        -4.39504231e-02,  -4.37667225e-02,  -4.35841712e-02,\n",
       "        -4.34027597e-02,  -4.32224785e-02,  -4.30433182e-02,\n",
       "        -4.28652695e-02,  -4.26883233e-02,  -4.25124705e-02,\n",
       "        -4.23377021e-02,  -4.21640092e-02,  -4.19913830e-02,\n",
       "        -4.18198147e-02,  -4.16492958e-02,  -4.14798177e-02,\n",
       "        -4.13113719e-02,  -4.11439502e-02,  -4.09775441e-02,\n",
       "        -4.08121455e-02,  -4.06477464e-02,  -4.04843385e-02,\n",
       "        -4.03219141e-02,  -4.01604652e-02])"
      ]
     },
     "execution_count": 24,
     "metadata": {},
     "output_type": "execute_result"
    }
   ],
   "source": [
    "df(x)"
   ]
  },
  {
   "cell_type": "code",
   "execution_count": null,
   "metadata": {
    "collapsed": true
   },
   "outputs": [],
   "source": []
  }
 ],
 "metadata": {
  "kernelspec": {
   "display_name": "Python 2",
   "language": "python",
   "name": "python2"
  },
  "language_info": {
   "codemirror_mode": {
    "name": "ipython",
    "version": 2
   },
   "file_extension": ".py",
   "mimetype": "text/x-python",
   "name": "python",
   "nbconvert_exporter": "python",
   "pygments_lexer": "ipython2",
   "version": "2.7.6"
  }
 },
 "nbformat": 4,
 "nbformat_minor": 0
}
